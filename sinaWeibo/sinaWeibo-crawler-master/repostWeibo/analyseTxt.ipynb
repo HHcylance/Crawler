{
 "cells": [
  {
   "cell_type": "code",
   "execution_count": 1,
   "metadata": {},
   "outputs": [],
   "source": [
    "import os\n",
    "import csv"
   ]
  },
  {
   "cell_type": "code",
   "execution_count": 2,
   "metadata": {},
   "outputs": [],
   "source": [
    "def addrPath(tweeter):\n",
    "    path=addrRoot+str(tweeter)+'/可视化分析结果/'\n",
    "    if os.path.exists(path) is False:\n",
    "         os.makedirs(path)\n",
    "    return path"
   ]
  },
  {
   "cell_type": "code",
   "execution_count": 3,
   "metadata": {},
   "outputs": [],
   "source": [
    "def addrFile(tweeter,suffix):\n",
    "    path=addrRoot+str(tweeter)+'/'\n",
    "    if os.path.exists(path) is False:\n",
    "         os.makedirs(path)\n",
    "    address=path+tweeter+suffix+'.csv'\n",
    "    return address  "
   ]
  },
  {
   "cell_type": "code",
   "execution_count": 4,
   "metadata": {
    "jupyter": {
     "source_hidden": true
    }
   },
   "outputs": [],
   "source": [
    "import random\n",
    "\n",
    "#for item in dataDict:\n",
    "    #print(dataDict.get(item)[-1-sort[-1]])\n",
    "    #print(item)\n",
    "def randomText(no):\n",
    "    \n",
    "        item=random.choice(list(dataDict))\n",
    "        return (item+':'+str(dataDict.get(item)[no]))\n",
    "\n",
    "def exactText(no,item):\n",
    "    text=(item+':'+str(dataDict.get(item)[no]))\n",
    "    print(text)\n",
    "    return text\n"
   ]
  },
  {
   "cell_type": "code",
   "execution_count": 5,
   "metadata": {
    "jupyter": {
     "source_hidden": true
    }
   },
   "outputs": [],
   "source": [
    "#文件保存地址，改为你存放csv文件的完整地址\n",
    "addrRoot='C:/Users/cascara/Desktop/seedcup/csv/blog/'\n",
    "\n",
    "#是否调试\n",
    "isDebug=False\n",
    "\n",
    "#100万+显示\n",
    "infinity=1000000"
   ]
  },
  {
   "cell_type": "code",
   "execution_count": 6,
   "metadata": {},
   "outputs": [
    {
     "name": "stdin",
     "output_type": "stream",
     "text": [
      "输入博主姓名： 华中科技大学\n"
     ]
    }
   ],
   "source": [
    "tweeter=input('输入博主姓名：')#'陈赫'"
   ]
  },
  {
   "cell_type": "code",
   "execution_count": 7,
   "metadata": {},
   "outputs": [
    {
     "name": "stdout",
     "output_type": "stream",
     "text": [
      "C:/Users/cascara/Desktop/seedcup/csv/blog/华中科技大学/华中科技大学batch0.csv\n",
      "C:/Users/cascara/Desktop/seedcup/csv/blog/华中科技大学/华中科技大学batch1.csv\n",
      "C:/Users/cascara/Desktop/seedcup/csv/blog/华中科技大学/华中科技大学batch2.csv\n",
      "C:/Users/cascara/Desktop/seedcup/csv/blog/华中科技大学/华中科技大学batch3.csv\n",
      "C:/Users/cascara/Desktop/seedcup/csv/blog/华中科技大学/华中科技大学batch4.csv\n",
      "C:/Users/cascara/Desktop/seedcup/csv/blog/华中科技大学/华中科技大学batch5.csv\n",
      "C:/Users/cascara/Desktop/seedcup/csv/blog/华中科技大学/华中科技大学batch6.csv\n",
      "C:/Users/cascara/Desktop/seedcup/csv/blog/华中科技大学/华中科技大学batch7.csv\n",
      "C:/Users/cascara/Desktop/seedcup/csv/blog/华中科技大学/华中科技大学batch8.csv\n",
      "C:/Users/cascara/Desktop/seedcup/csv/blog/华中科技大学/华中科技大学batch9.csv\n",
      "C:/Users/cascara/Desktop/seedcup/csv/blog/华中科技大学/华中科技大学batch10.csv\n",
      "C:/Users/cascara/Desktop/seedcup/csv/blog/华中科技大学/华中科技大学batch11.csv\n",
      "C:/Users/cascara/Desktop/seedcup/csv/blog/华中科技大学/华中科技大学batch12.csv\n",
      "C:/Users/cascara/Desktop/seedcup/csv/blog/华中科技大学/华中科技大学batch13.csv\n",
      "C:/Users/cascara/Desktop/seedcup/csv/blog/华中科技大学/华中科技大学batch14.csv\n",
      "C:/Users/cascara/Desktop/seedcup/csv/blog/华中科技大学/华中科技大学batch15.csv\n",
      "C:/Users/cascara/Desktop/seedcup/csv/blog/华中科技大学/华中科技大学batch16.csv\n",
      "C:/Users/cascara/Desktop/seedcup/csv/blog/华中科技大学/华中科技大学batch17.csv\n",
      "C:/Users/cascara/Desktop/seedcup/csv/blog/华中科技大学/华中科技大学batch18.csv\n",
      "C:/Users/cascara/Desktop/seedcup/csv/blog/华中科技大学/华中科技大学batch19.csv\n",
      "C:/Users/cascara/Desktop/seedcup/csv/blog/华中科技大学/华中科技大学batch20.csv\n",
      "C:/Users/cascara/Desktop/seedcup/csv/blog/华中科技大学/华中科技大学batch21.csv\n",
      "C:/Users/cascara/Desktop/seedcup/csv/blog/华中科技大学/华中科技大学batch22.csv\n",
      "C:/Users/cascara/Desktop/seedcup/csv/blog/华中科技大学/华中科技大学batch23.csv\n",
      "不存在C:/Users/cascara/Desktop/seedcup/csv/blog/华中科技大学/华中科技大学batch23.csv\n"
     ]
    }
   ],
   "source": [
    "#开始\n",
    "startCollect=True\n",
    "\n",
    "\n",
    "batch=0\n",
    "dataDict={}\n",
    "Title=[]\n",
    "while(1):\n",
    "    titleEixst=True\n",
    "    address=addrFile(tweeter,'batch'+str(batch))    \n",
    "    print(address)\n",
    "    \n",
    "    if os.path.exists(address) is True:\n",
    "        fp = open(address,'r',newline='',encoding='utf-16')      \n",
    "        reader=csv.reader(fp)\n",
    "        for line in reader:\n",
    "            if titleEixst is True:\n",
    "                #将标题制成各个\n",
    "                if startCollect is True:\n",
    "                    for item in line:\n",
    "                        #print(item[-1])\n",
    "                        if isDebug is True:\n",
    "                            print(item)\n",
    "\n",
    "                            \n",
    "                        dataDict[item]=[]\n",
    "                    startCollect=False\n",
    "                Title=line    \n",
    "                if isDebug is True:\n",
    "                    print(line)\n",
    "                titleEixst=False\n",
    "            else:\n",
    "                for no in range(len(line)):               \n",
    "                    if(Title[no].find('count')>=0):\n",
    "                        if line[no].find('0万') > 0:\n",
    "                            dataDict.get(Title[no]).append(infinity)\n",
    "                        else:\n",
    "                            dataDict.get(Title[no]).append(eval(line[no]))\n",
    "                        \n",
    "                        #dataDict.get(Title[no]).append((line[no]))\n",
    "                        \n",
    "                    else:\n",
    "                        dataDict.get(Title[no]).append((line[no]))\n",
    "                    if isDebug is True:\n",
    "                        print(Title[no])\n",
    "                        print(line[no])               \n",
    "                \n",
    "    \n",
    "    else:\n",
    "        print('不存在'+address)\n",
    "        break\n",
    "    fp.close()\n",
    "    batch+=1\n",
    "#print(dataDict)"
   ]
  },
  {
   "cell_type": "code",
   "execution_count": 12,
   "metadata": {},
   "outputs": [
    {
     "name": "stdout",
     "output_type": "stream",
     "text": [
      "['北京 东城区', '北京', '北京', '湖北 武汉', '北京', '北京', '北京', '北京', '北京', '北京 朝阳区', '北京', '北京', '湖北', '湖北', '湖北 武汉', '北京', '四川', '湖北 武汉', '湖北 武汉', '陕西 西安', '北京', '湖北 武汉', '北京 朝阳区', '广东', '北京', '湖北', '湖北 武汉', '北京', '湖北 武汉', '北京', '湖北 武汉', '湖北 武汉', '湖北 武汉', '河南', '湖北 武汉', '北京 东城区', '北京', '天津', '其他', '广东 深圳', '湖北 武汉', '北京 朝阳区', '北京', '四川', '湖北 武汉', '湖北 武汉', '北京 西城区', '湖北 襄阳', '湖北', '北京', '北京', '北京', '湖北', '北京', '广东', '北京', '湖北 武汉', '湖北 武汉', '北京', '北京', '湖北 武汉', '其他', '北京', '北京', '北京', '北京 朝阳区', '北京', '广东 广州', '福建 福州', '湖北 武汉', '湖南 岳阳', '湖北 武汉', '其他', '湖北 武汉', '北京 朝阳区', '湖北 武汉', '北京', '北京', '北京', '湖北', '海外 美国', '湖北', '浙江 杭州', '北京', '湖北', '湖北 武汉', '湖北 武汉', '湖北 武汉', '北京', '湖北 武汉', '湖北 武汉', '北京', '重庆 沙坪坝区', '湖北 武汉', '湖北 武汉', '浙江 温州', '其他', '其他', '湖北 黄冈', '云南', '湖北 武汉', '湖南 长沙', '其他', '湖北 武汉', '湖北 武汉', '北京', '重庆', '福建', '湖北 武汉', '湖北 武汉', '湖北 武汉', '北京', '湖北 武汉', '湖北', '湖北 武汉', '其他', '湖北', '湖北 武汉', '湖北 武汉', '海外 其他', '湖北', '北京', '湖北 武汉', '北京', '北京', '海外', '北京', '湖北', '湖北 荆州', '北京', '北京', '湖北 武汉', '北京', '湖北 武汉', '湖北 武汉', '未知', '安徽 池州', '湖北 武汉', '其他', '湖北 武汉', '北京', '湖南', '湖北 武汉', '湖北', '湖北 武汉', '湖北', '湖北 宜昌', '安徽 池州', '湖北 武汉', '湖北 武汉', '湖北 武汉', '湖北', '北京', '湖北 武汉', '湖北', '香港', '安徽 池州', '湖南 长沙', '海外', '安徽 池州', '湖北 武汉', '北京', '湖北', '其他', '湖北 武汉', '福建 福州', '福建 福州', '湖北 武汉', '福建 福州', '重庆', '陕西', '湖北 武汉', '北京', '湖北 武汉', '重庆', '湖北 武汉', '山东 青岛', '北京', '北京 西城区', '湖北 武汉', '天津', '山东', '天津', '重庆 沙坪坝区', '湖北', '湖北', '湖北', '北京', '浙江', '四川 成都', '广东', '湖北 武汉', '未知', '福建 福州', '浙江 宁波', '北京', '湖北 武汉', '北京', '福建 福州', '山西 太原', '福建 福州', '江苏 苏州', '湖北 武汉', '北京', '湖北', '北京', '浙江', '浙江 宁波', '其他', '湖南', '北京', '湖北 武汉', '湖南', '北京', '湖北', '湖北', '北京', '其他', '河南 洛阳', '湖北', '未知', '北京', '湖南', '海外 英国', '河南 焦作', '湖北 武汉', '湖北 武汉', '江苏 南京', '湖北', '湖北', '北京', '北京', '江苏 南京', '湖北 武汉', '湖北 武汉', '北京', '湖北 武汉', '湖北 武汉', '其他', '重庆', '湖北 武汉', '其他', '湖北 武汉', '海外', '湖北 武汉', '其他', '海外 英国', '湖北', '海外 沙特阿拉伯', '海外', '北京', '湖北 武汉', '湖南', '湖北 武汉', '湖北', '湖北 武汉', '其他', '湖北', '湖北 武汉', '其他', '湖北 武汉', '未知', '广东 广州', '湖北 武汉', '云南 昆明', '湖北 武汉', '浙江 杭州', '海外', '湖北', '河南 郑州', '安徽 池州', '未知', '上海 徐汇区', '福建 福州', '海外 英国', '其他', '北京', '其他', '其他', '福建 福州', '湖北 宜昌', '上海', '其他', '湖北 武汉', '江西', '江苏', '北京', '北京', '湖南', '北京', '其他', '重庆', '湖北 武汉', '其他', '福建 福州', '其他', '陕西', '其他', '辽宁', '其他', '广东', '其他', '上海', '陕西 西安', '湖北 武汉', '湖北', '其他', '湖北 武汉', '湖北 武汉', '江苏 苏州', '福建 福州', '湖北 武汉', '陕西 西安', '北京', '福建 福州', '湖北 武汉', '江西 九江', '山东 济宁', '湖北 武汉', '北京', '湖北 武汉', '广东', '四川 成都', '福建 福州', '福建 福州', '湖南', '上海 徐汇区', '海外 菲律宾', '湖北 武汉', '北京', '湖北 武汉', '湖北 武汉', '其他', '湖北 武汉', '湖北', '安徽 池州', '湖北', '四川 泸州', '湖北', '湖北 武汉', '湖南 岳阳', '重庆', '湖北 武汉', '湖北 武汉', '湖北 武汉', '湖北 武汉', '青海 西宁', '未知', '江苏 苏州', '北京', '其他']\n"
     ]
    }
   ],
   "source": [
    "print(dataDict['所在地'])"
   ]
  },
  {
   "cell_type": "markdown",
   "metadata": {},
   "source": [
    "### 读入数据"
   ]
  },
  {
   "cell_type": "code",
   "execution_count": 10,
   "metadata": {},
   "outputs": [],
   "source": [
    "originData={}\n",
    "retweetData={}\n",
    "\n",
    "labels=[0 for i in range(4)]\n",
    "cnLabels={}\n",
    "\n",
    "labels[1]='reposts_count'\n",
    "labels[2]='comments_count'\n",
    "labels[3]='attitudes_count'\n",
    "labels[0]='follow_count'\n",
    "\n",
    "cnLabels[labels[1]]='转发量'\n",
    "cnLabels[labels[2]]='评论量'\n",
    "cnLabels[labels[3]]='点赞量'\n",
    "cnLabels[labels[0]]='粉丝量'\n",
    "\n",
    "\n",
    "for i in range(4):\n",
    "    #print(choice+label)\n",
    "    try:\n",
    "        #originData[cnLabels[i]]=np.asarray(dataDict.get('原文'+labels[i])[::-1])\n",
    "        retweetData[labels[i]]=np.asarray(dataDict.get('转发'+labels[i])[::-1])\n",
    "    except:\n",
    "        pass\n",
    "    try:\n",
    "        originData[labels[i]]=np.asarray(dataDict.get('原文'+labels[i])[::-1])\n",
    "        #retweetData[cnLabels[i]]=np.asarray(dataDict.get('转发'+labels[i])[::-1])\n",
    "    except:\n",
    "        pass\n",
    "\n"
   ]
  },
  {
   "cell_type": "code",
   "execution_count": 11,
   "metadata": {},
   "outputs": [],
   "source": [
    "txt=''\n",
    "for text in  (dataDict['转发text']):\n",
    "    txt +=text\n"
   ]
  },
  {
   "cell_type": "code",
   "execution_count": 12,
   "metadata": {},
   "outputs": [],
   "source": [
    "choice='转发'#'原文'#\n",
    "\n",
    "txt=''\n",
    "for text in  (dataDict[choice+'text']):\n",
    "    txt +=text"
   ]
  },
  {
   "cell_type": "code",
   "execution_count": 13,
   "metadata": {},
   "outputs": [
    {
     "name": "stderr",
     "output_type": "stream",
     "text": [
      "Building prefix dict from the default dictionary ...\n",
      "Loading model from cache C:\\Users\\cascara\\AppData\\Local\\Temp\\jieba.cache\n",
      "Loading model cost 0.932 seconds.\n",
      "Prefix dict has been built successfully.\n"
     ]
    },
    {
     "data": {
      "text/plain": [
       "<wordcloud.wordcloud.WordCloud at 0x272b2bddc48>"
      ]
     },
     "execution_count": 13,
     "metadata": {},
     "output_type": "execute_result"
    }
   ],
   "source": [
    "import jieba\n",
    "import numpy as np\n",
    "import wordcloud\n",
    "from PIL import Image\n",
    "import os\n",
    "#fc = open(\"threekingdoms.txt\", \"r\", encoding='utf-8')\n",
    "#fc=fc.read()\n",
    "\n",
    "savePath=addrPath(tweeter)+'词云/'\n",
    "\n",
    "if os.path.exists(savePath) is False:\n",
    "    os.mkdir(savePath)\n",
    "\n",
    "\n",
    "fc=txt\n",
    "ct=0\n",
    "words=jieba.lcut(fc)\n",
    "'''for word in words:\n",
    "    ct+=1\n",
    "    print(word)\n",
    "    if ct==3:\n",
    "        break'''\n",
    "\n",
    "article=' '.join(words)\n",
    "\n",
    "\n",
    "mask = np.array(Image.open(\"huakegatemask.jpg\"))\n",
    "\n",
    "\n",
    "c = wordcloud.WordCloud( \\\n",
    "       mask=mask,\n",
    "    width = 1000, height = 700,\\\n",
    "    background_color = \"white\",\n",
    "    font_path = \"msyh.ttc\"    \n",
    "    )\n",
    "#c=wordcloud.WordCloud(font_path = \"msyh.ttc\" )\n",
    "c.generate(article)\n",
    "#print(c)\n",
    "c.to_file(savePath+choice+'词云图.png')\n"
   ]
  },
  {
   "cell_type": "code",
   "execution_count": 34,
   "metadata": {},
   "outputs": [
    {
     "name": "stderr",
     "output_type": "stream",
     "text": [
      "c:\\users\\cascara\\appdata\\local\\programs\\python\\python37\\lib\\site-packages\\ipykernel_launcher.py:36: MatplotlibDeprecationWarning: \n",
      "The 'normed' kwarg was deprecated in Matplotlib 2.1 and will be removed in 3.1. Use 'density' instead.\n"
     ]
    },
    {
     "data": {
      "image/png": "[encoded data removed]",
      "text/plain": [
       "<Figure size 864x576 with 1 Axes>"
      ]
     },
     "metadata": {},
     "output_type": "display_data"
    }
   ],
   "source": [
    "import random\n",
    "import math\n",
    "import matplotlib.pyplot as plt\n",
    "import seaborn as sns\n",
    "import numpy as np\n",
    "\n",
    "%matplotlib inline\n",
    "sns.set_style('darkgrid')\n",
    "plt.rcParams['figure.figsize'] = (12, 8)\n",
    "\n",
    "\n",
    "def AceeptReject(split_val):\n",
    "    global c\n",
    "    global power\n",
    "    while True:\n",
    "        x = random.uniform(0, 1)\n",
    "        y = random.uniform(0, 1)\n",
    "        if y*c <= math.pow(x - split_val, power):\n",
    "            return x\n",
    "\n",
    "power = 4\n",
    "t = 0.4  \n",
    "sum_ = (math.pow(1-t, power + 1) - math.pow(-t, power + 1)) / (power + 1)  #求积分\n",
    "x = np.linspace(0, 1, 100)\n",
    "#常数值c\n",
    "c = 0.6**4/sum_\n",
    "cc = [c for xi in x]\n",
    "plt.plot(x, cc, '--',label='c*f(x)')\n",
    "#目标概率密度函数的值f(x)\n",
    "y = [math.pow(xi - t, power)/sum_ for xi in x]\n",
    "plt.plot(x, y,label='f(x)')\n",
    "#采样10000个点\n",
    "samples = []\n",
    "for  i in range(10000):\n",
    "    samples.append(AceeptReject(t))\n",
    "plt.hist(samples, bins=50, normed=True,label='sampling')\n",
    "plt.legend()\n",
    "plt.show()"
   ]
  },
  {
   "cell_type": "code",
   "execution_count": null,
   "metadata": {},
   "outputs": [],
   "source": []
  }
 ],
 "metadata": {
  "kernelspec": {
   "display_name": "Python 3",
   "language": "python",
   "name": "python3"
  },
  "language_info": {
   "codemirror_mode": {
    "name": "ipython",
    "version": 3
   },
   "file_extension": ".py",
   "mimetype": "text/x-python",
   "name": "python",
   "nbconvert_exporter": "python",
   "pygments_lexer": "ipython3",
   "version": "3.7.4"
  }
 },
 "nbformat": 4,
 "nbformat_minor": 4
}
