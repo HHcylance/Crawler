{
 "cells": [
  {
   "cell_type": "markdown",
   "id": "2d716a8e-cf34-4438-87d1-2c79f9c008f6",
   "metadata": {},
   "source": [
    "### 输入问题id\n",
    "\n",
    "### 输出 ['转发created_at', '转发text', '转发reposts_count', '转发comments_count', '转发attitudes_count', '转发id', '转发screen_name', '转发description', '转发gender', '转发followers_count', '转发follow_count','转发source_name']"
   ]
  },
  {
   "cell_type": "markdown",
   "id": "2a59a4a7",
   "metadata": {},
   "source": []
  },
  {
   "cell_type": "code",
   "execution_count": 7,
   "id": "d0f0741b",
   "metadata": {},
   "outputs": [],
   "source": [
    "import requests\n",
    "import json\n",
    "import time\n",
    "import csv\n",
    "from lxml import etree\n",
    "import re\n",
    "from random import random"
   ]
  },
  {
   "cell_type": "markdown",
   "id": "5fef59c1",
   "metadata": {},
   "source": [
    "### 头部"
   ]
  },
  {
   "cell_type": "code",
   "execution_count": null,
   "id": "79edb9ad",
   "metadata": {},
   "outputs": [],
   "source": [
    "headers = {\n",
    "    'User-Agent': 'Mozilla/5.0 (Macintosh; Intel Mac OS X 10_15_5) AppleWebKit/537.36 (KHTML, like Gecko) Chrome/88.0.4324.146 Safari/537.36',\n",
    "}"
   ]
  },
  {
   "cell_type": "markdown",
   "id": "a3268ee5",
   "metadata": {},
   "source": [
    "### 获取问题下所有回答"
   ]
  },
  {
   "cell_type": "code",
   "execution_count": null,
   "id": "21a68d45",
   "metadata": {},
   "outputs": [],
   "source": [
    "def GetAnswers(id):\n",
    "    i = 0\n",
    "    while True:\n",
    "        url = 'https://www.zhihu.com/api//v4/questions/'+ id +'/answers' \\\n",
    "              '?include=data%5B%2A%5D.is_normal%2Cadmin_closed_comment%2Creward_info%2Cis_collapsed%2Cannotation_action%' \\\n",
    "              '2Cannotation_detail%2Ccollapse_reason%2Cis_sticky%2Ccollapsed_by%2Csuggest_edit%2Ccomment_count%' \\\n",
    "              '2Ccan_comment%2Ccontent%2Ceditable_content%2Cattachment%2Cvoteup_count%2Creshipment_settings%' \\\n",
    "              '2Ccomment_permission%2Ccreated_time%2Cupdated_time%2Creview_info%2Crelevant_info%2Cquestion%2Cexcerpt%' \\\n",
    "              '2Cis_labeled%2Cpaid_info%2Cpaid_info_content%2Crelationship.is_authorized%2Cis_author%2Cvoting%2Cis_thanked%' \\\n",
    "              '2Cis_nothelp%2Cis_recognized%3Bdata%5B%2A%5D.mark_infos%5B%2A%5D.url%3Bdata%5B%2A%5D.author.follower_count%' \\\n",
    "              '2Cbadge%5B%2A%5D.topics%3Bdata%5B%2A%5D.settings.table_of_content.enabled&limit=5&offset={0}&platform=desktop&' \\\n",
    "              'sort_by=default'.format(i)\n",
    "\n",
    "        state=1\n",
    "        while state:\n",
    "            try:\n",
    "                res = requests.get(url, headers=headers, timeout=(3, 7))\n",
    "                state=0\n",
    "            except:\n",
    "                continue\n",
    "\n",
    "        res.encoding = 'utf-8'\n",
    "        jsonAnswer = json.loads(res.text)\n",
    "        # print(jsonAnswer)\n",
    "        # print('----------------------------------')\n",
    "        # break\n",
    "        is_end = jsonAnswer['paging']['is_end']\n",
    "\n",
    "        for data in jsonAnswer['data']:\n",
    "            try:\n",
    "                l = list()\n",
    "                l.append(time.strftime(\"%Y-%m-%d %H:%M:%S\", time.localtime(data['created_time'])))      #时间\n",
    "                l.append(''.join(etree.HTML(data['content']).xpath('//p//text()')))                     #文本\n",
    "                l.append('0')\n",
    "                l.append(data['comment_count'])                                                         #评论数\n",
    "                l.append(data['voteup_count'])                                                          #点赞数\n",
    "                answer_id = str(data['id'])\n",
    "                l.append(answer_id)   \n",
    "                name = data['author']['name']                                                                  #评论id                            \n",
    "                l.append(name)                                                        #评论者name\n",
    "                l.append(data['author']['headline'])                                                    #作者签名\n",
    "                l.append(data['author']['gender'])                                                                #性别\n",
    "                l.append(data['author']['follower_count'])                                              #粉丝数\n",
    "                l.append('')      \n",
    "                l.append('')\n",
    "                # print(l)\n",
    "                if l:\n",
    "                    writer.writerow(l)\n",
    "\n",
    "                if data['admin_closed_comment'] == False and data['can_comment']['status'] and data['comment_count'] > 0:\n",
    "                    GetComments(answer_id, name)\n",
    "            except:\n",
    "                # print(l)\n",
    "                continue\n",
    "\n",
    "        # 获取answer\n",
    "        i += 5\n",
    "        print('打印到第{0}页'.format(int(i / 5)))\n",
    "\n",
    "        if is_end:\n",
    "            break\n",
    "\n",
    "        time.sleep(random())"
   ]
  },
  {
   "cell_type": "markdown",
   "id": "e612644c",
   "metadata": {},
   "source": [
    "### 获取某一回答下所有评论"
   ]
  },
  {
   "cell_type": "code",
   "execution_count": null,
   "id": "d8c91b96",
   "metadata": {},
   "outputs": [],
   "source": [
    "def GetComments(answer_id, name):\n",
    "    j = 0\n",
    "    while True:\n",
    "        # url = 'https://www.zhihu.com/api//v4/answers/{0}/root_comments?order=normal&limit=20&offset={1}&status=open'.format(\n",
    "        #     answer_id, j)\n",
    "        url = 'https://www.zhihu.com//api/v4/comment_v5/answers/{0}/root_comment?order_by=score&limit=20&offset={1}&status=open'.format(answer_id, j)\n",
    "        state=1\n",
    "        while state:\n",
    "            try:\n",
    "                res = requests.get(url, headers=headers, timeout=(3, 7))\n",
    "                state=0\n",
    "            except:\n",
    "                continue\n",
    "\n",
    "        res.encoding = 'utf-8'\n",
    "        jsonComment = json.loads(res.text)\n",
    "        # print(jsonComment)\n",
    "        # break\n",
    "        is_end = jsonComment['paging']['is_end']\n",
    "\n",
    "        for data in jsonComment['data']:\n",
    "            # print(data)\n",
    "            l = list()\n",
    "            l.append(time.strftime(\"%Y-%m-%d %H:%M:%S\", time.localtime(data['created_time'])))\n",
    "            l.append(''.join(etree.HTML(data['content']).xpath('//p//text()')))\n",
    "            l.append('0')\n",
    "            l.append(data['child_comment_count'])\n",
    "            l.append(data['like_count'])\n",
    "            comment_id = str(data['id'])\n",
    "            l.append(comment_id)\n",
    "            c_name = data['author']['name']\n",
    "            l.append(c_name)\n",
    "            l.append(data['author']['headline'])\n",
    "            l.append(data['author']['gender'])\n",
    "            l.append('')\n",
    "            l.append('')\n",
    "            l.append(name)\n",
    "            \n",
    "            # print(l)\n",
    "\n",
    "            if l:\n",
    "                writer.writerow(l)\n",
    "            # print(l)\n",
    "            if data['child_comments']:\n",
    "                GetChildComments(comment_id, c_name)\n",
    "                # print(l)\n",
    "\n",
    "        #获取下一页面评论url\n",
    "        j = jsonComment['paging']['next']\n",
    "        _next = re.compile('offset=(.*)&order_by=score&status=open')\n",
    "        j = re.findall(_next,j)[0]\n",
    "        if is_end:\n",
    "            break\n",
    "\n",
    "        time.sleep(random())"
   ]
  },
  {
   "cell_type": "markdown",
   "id": "70a232f1",
   "metadata": {},
   "source": [
    "### 获取某一评论下回复"
   ]
  },
  {
   "cell_type": "code",
   "execution_count": null,
   "id": "3b5a5fc1",
   "metadata": {},
   "outputs": [],
   "source": [
    "def GetChildComments(comment_id, c_name):\n",
    "    j = 0\n",
    "    while True:\n",
    "        # url = 'https://www.zhihu.com/api//v4/answers/{0}/root_comments?order=normal&limit=20&offset={1}&status=open'.format(\n",
    "        #     answer_id, j)\n",
    "        url = 'https://www.zhihu.com//api/v4/comment_v5/comment/{0}/child_comment?order_by=ts&limit=20&offset={1}&status=open'.format(comment_id, j)\n",
    "        state=1\n",
    "        while state:\n",
    "            try:\n",
    "                res = requests.get(url, headers=headers, timeout=(3, 7))\n",
    "                state=0\n",
    "            except:\n",
    "                continue\n",
    "\n",
    "        res.encoding = 'utf-8'\n",
    "        jsonComment = json.loads(res.text)\n",
    "        # print(jsonComment)\n",
    "        # break\n",
    "        is_end = jsonComment['paging']['is_end']\n",
    "        '''\n",
    "        如果有二级评论\n",
    "        '''\n",
    "        for child_comments in jsonComment['data']:\n",
    "            l = list()\n",
    "            l.append(time.strftime(\"%Y-%m-%d %H:%M:%S\", time.localtime(child_comments['created_time'])))\n",
    "            l.append(''.join(etree.HTML(child_comments['content']).xpath('//p//text()')))\n",
    "            l.append('0')\n",
    "            l.append(child_comments['child_comment_count'])\n",
    "            l.append(child_comments['like_count'])\n",
    "            l.append(str(child_comments['id']))\n",
    "            l.append(child_comments['author']['name'])\n",
    "            l.append(child_comments['author']['headline'])\n",
    "            l.append(child_comments['author']['gender'])\n",
    "            l.append('')\n",
    "            l.append('')\n",
    "            if child_comments['reply_comment_id'] != child_comments['reply_root_comment_id']:\n",
    "                l.append(child_comments['reply_to_author']['name'])\n",
    "            else:\n",
    "                l.append(c_name)\n",
    "            if l:\n",
    "                writer.writerow(l)\n",
    "\n",
    "                \n",
    "        # 获取下一评论页面url\n",
    "        j = jsonComment['paging']['next']\n",
    "        _next = re.compile('offset=(.*)&order_by=ts&status=open')\n",
    "        j = re.findall(_next,j)[0]\n",
    "        if is_end:\n",
    "            break\n",
    "\n",
    "        time.sleep(random())"
   ]
  },
  {
   "cell_type": "markdown",
   "id": "34c93aef",
   "metadata": {},
   "source": [
    "### 输入主题名（及中心节点名）\n",
    "### 输入问题id\n",
    "如 https://www.zhihu.com/question/**340764391**/answer/1357008556 中的340764391"
   ]
  },
  {
   "cell_type": "code",
   "execution_count": null,
   "id": "b97182b3",
   "metadata": {},
   "outputs": [],
   "source": [
    "\n",
    "tweeter = input()\n",
    "csvfile = open('./data/'+tweeter+'.csv', 'w', newline='', encoding='utf-16')\n",
    "writer = csv.writer(csvfile)\n",
    "title = ['转发created_at', '转发text', '转发reposts_count', '转发comments_count', '转发attitudes_count', '转发id', '转发screen_name', '转发description', '转发gender', '转发followers_count', '转发follow_count','转发source_name']\n",
    "writer.writerow(title)\n",
    "id  = input()\n",
    "GetAnswers(id)\n",
    "csvfile.close()"
   ]
  }
 ],
 "metadata": {
  "kernelspec": {
   "display_name": "Python 3 (ipykernel)",
   "language": "python",
   "name": "python3"
  },
  "language_info": {
   "codemirror_mode": {
    "name": "ipython",
    "version": 3
   },
   "file_extension": ".py",
   "mimetype": "text/x-python",
   "name": "python",
   "nbconvert_exporter": "python",
   "pygments_lexer": "ipython3",
   "version": "3.9.12"
  },
  "vscode": {
   "interpreter": {
    "hash": "91bb753b057673435fb8d6f6a083e6c818364728098c7ae050ca3a25357dd754"
   }
  }
 },
 "nbformat": 4,
 "nbformat_minor": 5
}
